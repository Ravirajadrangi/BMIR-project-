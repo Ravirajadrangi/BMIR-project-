{
 "cells": [
  {
   "cell_type": "code",
   "execution_count": 113,
   "metadata": {
    "collapsed": true
   },
   "outputs": [],
   "source": [
    "#import classes\n",
    "from random import shuffle\n",
    "import gensim\n",
    "import os\n",
    "import collections\n",
    "import smart_open\n",
    "import random\n",
    "import re"
   ]
  },
  {
   "cell_type": "code",
   "execution_count": 114,
   "metadata": {
    "collapsed": true
   },
   "outputs": [],
   "source": [
    "def read_labels(fname):\n",
    "    with smart_open.smart_open(fname) as f:\n",
    "        for line in enumerate(f):\n",
    "            yield line"
   ]
  },
  {
   "cell_type": "code",
   "execution_count": 115,
   "metadata": {
    "collapsed": true
   },
   "outputs": [],
   "source": [
    "train_labels = list(read_labels(\"labels-train.txt\"))\n",
    "test_labels = list(read_labels(\"labels-test.txt\"))"
   ]
  },
  {
   "cell_type": "code",
   "execution_count": 116,
   "metadata": {
    "collapsed": true
   },
   "outputs": [],
   "source": [
    "def read_corpus(fname, tokens_only=False):\n",
    "    with smart_open.smart_open(fname, encoding=\"iso-8859-1\") as f:\n",
    "        for i, line in enumerate(f):\n",
    "            if tokens_only:\n",
    "                yield gensim.utils.simple_preprocess(line)\n",
    "            else:\n",
    "                # For training data, add tags\n",
    "                yield gensim.models.doc2vec.TaggedDocument(gensim.utils.simple_preprocess(line), train_labels[i][1].decode('utf-8'))"
   ]
  },
  {
   "cell_type": "code",
   "execution_count": 117,
   "metadata": {},
   "outputs": [
    {
     "name": "stdout",
     "output_type": "stream",
     "text": [
      "CPU times: user 1min 18s, sys: 1.25 s, total: 1min 19s\n",
      "Wall time: 30.9 s\n"
     ]
    },
    {
     "data": {
      "text/plain": [
       "22801624"
      ]
     },
     "execution_count": 117,
     "metadata": {},
     "output_type": "execute_result"
    }
   ],
   "source": [
    "train_corpus = list(read_corpus(\"smoking-train.txt\"))\n",
    "test_corpus = list(read_corpus(\"smoking-test.txt\",tokens_only=True))\n",
    "model = gensim.models.doc2vec.Doc2Vec(size=50, min_count=2, iter=55)\n",
    "model.build_vocab(train_corpus)\n",
    "%time model.train(train_corpus, total_examples=model.corpus_count, epochs=100)"
   ]
  },
  {
   "cell_type": "code",
   "execution_count": null,
   "metadata": {
    "scrolled": false
   },
   "outputs": [],
   "source": []
  },
  {
   "cell_type": "code",
   "execution_count": 118,
   "metadata": {},
   "outputs": [
    {
     "data": {
      "text/plain": [
       "[('unemployed', 0.7107837200164795),\n",
       " ('smoking', 0.6728432774543762),\n",
       " ('pipe', 0.6254364252090454),\n",
       " ('drink', 0.615814745426178),\n",
       " ('cigarette', 0.6044490933418274),\n",
       " ('tobacco', 0.6023449897766113),\n",
       " ('lives', 0.601466178894043),\n",
       " ('alcohol', 0.5989133715629578),\n",
       " ('detail', 0.5954065322875977),\n",
       " ('ethanol', 0.5915155410766602)]"
      ]
     },
     "execution_count": 118,
     "metadata": {},
     "output_type": "execute_result"
    }
   ],
   "source": [
    "model.most_similar('quit')"
   ]
  },
  {
   "cell_type": "code",
   "execution_count": 119,
   "metadata": {},
   "outputs": [
    {
     "data": {
      "text/plain": [
       "[('cigarette', 0.6794581413269043),\n",
       " ('quit', 0.6728431582450867),\n",
       " ('ethanol', 0.632678210735321),\n",
       " ('alcohol', 0.6206820011138916),\n",
       " ('tobacco', 0.6161278486251831),\n",
       " ('drink', 0.5640317797660828),\n",
       " ('obesity', 0.5633103847503662),\n",
       " ('drinks', 0.5615329146385193),\n",
       " ('smoked', 0.552899956703186),\n",
       " ('rh', 0.5519952774047852)]"
      ]
     },
     "execution_count": 119,
     "metadata": {},
     "output_type": "execute_result"
    }
   ],
   "source": [
    "model.most_similar('smoking')"
   ]
  },
  {
   "cell_type": "code",
   "execution_count": 120,
   "metadata": {},
   "outputs": [],
   "source": [
    "train_vecs = model.docvecs\n",
    "test_vecs = list([])\n",
    "for elem in test_corpus:\n",
    "    a = list(model.infer_vector(elem))\n",
    "    test_vecs.append(a)"
   ]
  },
  {
   "cell_type": "code",
   "execution_count": null,
   "metadata": {},
   "outputs": [],
   "source": []
  },
  {
   "cell_type": "code",
   "execution_count": null,
   "metadata": {
    "collapsed": true
   },
   "outputs": [],
   "source": []
  }
 ],
 "metadata": {
  "kernelspec": {
   "display_name": "Python 3",
   "language": "python",
   "name": "python3"
  },
  "language_info": {
   "codemirror_mode": {
    "name": "ipython",
    "version": 3
   },
   "file_extension": ".py",
   "mimetype": "text/x-python",
   "name": "python",
   "nbconvert_exporter": "python",
   "pygments_lexer": "ipython3",
   "version": "3.6.0"
  }
 },
 "nbformat": 4,
 "nbformat_minor": 2
}

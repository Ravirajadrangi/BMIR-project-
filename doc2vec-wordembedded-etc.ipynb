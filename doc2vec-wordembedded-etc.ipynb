{
 "cells": [
  {
   "cell_type": "code",
   "execution_count": 372,
   "metadata": {},
   "outputs": [],
   "source": [
    "#import classes\n",
    "from random import shuffle\n",
    "import gensim\n",
    "import os\n",
    "import collections\n",
    "import smart_open\n",
    "import random\n",
    "import re\n",
    "from matplotlib import pyplot as plt\n",
    "from sklearn.metrics import confusion_matrix\n",
    "import seaborn as sns"
   ]
  },
  {
   "cell_type": "code",
   "execution_count": 365,
   "metadata": {},
   "outputs": [],
   "source": [
    "def read_labels(fname, nums=False):\n",
    "    arr = []\n",
    "    with smart_open.smart_open(fname) as f:\n",
    "        for line in enumerate(f):\n",
    "            s = line[1].decode('utf-8')\n",
    "            if nums:\n",
    "                yield line[1].decode('utf-8')\n",
    "            else:\n",
    "                if \"UNK\" in s:\n",
    "                    yield 3\n",
    "                elif \"NON\" in s:\n",
    "                    yield 2\n",
    "                elif \"PAST\" in s:\n",
    "                    yield 1\n",
    "                else:\n",
    "                    yield 0\n",
    "\n",
    "def plot_confusion_matrix(cm, classes,\n",
    "                          normalize=False,\n",
    "                          title='Confusion matrix',\n",
    "                          cmap=plt.cm.Blues):\n",
    "    \"\"\"\n",
    "    This function prints and plots the confusion matrix.\n",
    "    Normalization can be applied by setting `normalize=True`.\n",
    "    \"\"\"\n",
    "    plt.imshow(cm, interpolation='nearest', cmap=cmap)\n",
    "    plt.title(title)\n",
    "    plt.colorbar()\n",
    "    tick_marks = np.arange(len(classes))\n",
    "    plt.xticks(tick_marks, classes, rotation=45)\n",
    "    plt.yticks(tick_marks, classes)\n",
    "\n",
    "    if normalize:\n",
    "        cm = cm.astype('float') / cm.sum(axis=1)[:, np.newaxis]\n",
    "        print(\"Normalized confusion matrix\")\n",
    "    else:\n",
    "        print('Confusion matrix, without normalization')\n",
    "\n",
    "    print(cm)\n",
    "    sns.heatmap(cm)\n",
    "\n",
    "    plt.ylabel('True label')\n",
    "    plt.xlabel('Predicted label')\n",
    "    plt.show()"
   ]
  },
  {
   "cell_type": "code",
   "execution_count": 342,
   "metadata": {
    "collapsed": true
   },
   "outputs": [],
   "source": [
    "train_nums = list(read_labels(\"labels-train.txt\"))\n",
    "test_nums = list(read_labels(\"labels-test.txt\"))\n",
    "train_labels = list(read_labels(\"labels-train.txt\", nums=True))\n",
    "test_labels = list(read_labels(\"labels-test.txt\", nums=True))"
   ]
  },
  {
   "cell_type": "code",
   "execution_count": 343,
   "metadata": {
    "collapsed": true
   },
   "outputs": [],
   "source": [
    "def read_corpus(fname, tokens_only=False):\n",
    "    with smart_open.smart_open(fname, encoding=\"iso-8859-1\") as f:\n",
    "        for i, line in enumerate(f):\n",
    "            if tokens_only:\n",
    "                yield gensim.utils.simple_preprocess(line)\n",
    "            else:\n",
    "                # For training data, add tags\n",
    "                yield gensim.models.doc2vec.TaggedDocument(gensim.utils.simple_preprocess(line), [i])"
   ]
  },
  {
   "cell_type": "code",
   "execution_count": 344,
   "metadata": {},
   "outputs": [
    {
     "name": "stdout",
     "output_type": "stream",
     "text": [
      "CPU times: user 49.7 s, sys: 828 ms, total: 50.5 s\n",
      "Wall time: 21.6 s\n"
     ]
    },
    {
     "data": {
      "text/plain": [
       "22379422"
      ]
     },
     "execution_count": 344,
     "metadata": {},
     "output_type": "execute_result"
    }
   ],
   "source": [
    "train_corpus = list(read_corpus(\"smoking-train.txt\"))\n",
    "test_corpus = list(read_corpus(\"smoking-test.txt\",tokens_only=True))\n",
    "model = gensim.models.doc2vec.Doc2Vec(size=100, min_count=2, iter=55, dm=0)\n",
    "model.build_vocab(train_corpus)\n",
    "%time model.train(train_corpus, total_examples=model.corpus_count, epochs=100)"
   ]
  },
  {
   "cell_type": "code",
   "execution_count": 366,
   "metadata": {},
   "outputs": [],
   "source": [
    "train_vecs = model.docvecs\n",
    "test_vecs = []\n",
    "for elem in test_corpus:\n",
    "    a = list(model.infer_vector(elem))\n",
    "    test_vecs.append(a)"
   ]
  },
  {
   "cell_type": "code",
   "execution_count": 346,
   "metadata": {
    "collapsed": true
   },
   "outputs": [],
   "source": [
    "import xgboost as xgb\n",
    "import scipy.sparse\n",
    "import numpy as np\n",
    "from sklearn.calibration import CalibratedClassifierCV"
   ]
  },
  {
   "cell_type": "code",
   "execution_count": 347,
   "metadata": {
    "collapsed": true
   },
   "outputs": [],
   "source": [
    "xg_train = xgb.DMatrix(train_vecs, label=train_nums)\n",
    "xg_test = xgb.DMatrix(test_vecs, label=test_nums)\n"
   ]
  },
  {
   "cell_type": "code",
   "execution_count": 367,
   "metadata": {},
   "outputs": [
    {
     "name": "stdout",
     "output_type": "stream",
     "text": [
      "{'objective': 'multi:softmax', 'max_depth': 6, 'silent': 0, 'num_class': 4}\n"
     ]
    }
   ],
   "source": [
    "# setup parameters for xgboost\n",
    "param = {}\n",
    "# use softmax multi-class classification\n",
    "param['objective'] = 'multi:softmax'\n",
    "# scale weight of positive examples\n",
    "param['max_depth'] = 6\n",
    "param['silent'] = 0\n",
    "param['num_class'] = 4\n",
    "print(param)"
   ]
  },
  {
   "cell_type": "code",
   "execution_count": 380,
   "metadata": {},
   "outputs": [
    {
     "name": "stdout",
     "output_type": "stream",
     "text": [
      "[0]\ttrain-merror:0.067347\ttest-merror:0.217822\n",
      "[1]\ttrain-merror:0.026531\ttest-merror:0.19802\n",
      "[2]\ttrain-merror:0.008163\ttest-merror:0.19802\n",
      "[3]\ttrain-merror:0.004082\ttest-merror:0.178218\n",
      "[4]\ttrain-merror:0\ttest-merror:0.138614\n",
      "[5]\ttrain-merror:0\ttest-merror:0.128713\n",
      "[6]\ttrain-merror:0\ttest-merror:0.118812\n",
      "[7]\ttrain-merror:0\ttest-merror:0.079208\n",
      "[8]\ttrain-merror:0\ttest-merror:0.089109\n",
      "[9]\ttrain-merror:0\ttest-merror:0.089109\n",
      "[10]\ttrain-merror:0\ttest-merror:0.089109\n",
      "[11]\ttrain-merror:0\ttest-merror:0.079208\n",
      "[12]\ttrain-merror:0\ttest-merror:0.079208\n",
      "[13]\ttrain-merror:0\ttest-merror:0.079208\n",
      "[14]\ttrain-merror:0\ttest-merror:0.079208\n",
      "[15]\ttrain-merror:0\ttest-merror:0.069307\n",
      "[16]\ttrain-merror:0\ttest-merror:0.069307\n",
      "[17]\ttrain-merror:0\ttest-merror:0.069307\n",
      "[18]\ttrain-merror:0\ttest-merror:0.059406\n",
      "[19]\ttrain-merror:0\ttest-merror:0.049505\n",
      "[20]\ttrain-merror:0\ttest-merror:0.049505\n",
      "[21]\ttrain-merror:0\ttest-merror:0.049505\n",
      "[22]\ttrain-merror:0\ttest-merror:0.049505\n",
      "[23]\ttrain-merror:0\ttest-merror:0.049505\n",
      "[24]\ttrain-merror:0\ttest-merror:0.049505\n",
      "[25]\ttrain-merror:0\ttest-merror:0.049505\n",
      "[26]\ttrain-merror:0\ttest-merror:0.049505\n",
      "[27]\ttrain-merror:0\ttest-merror:0.049505\n",
      "[28]\ttrain-merror:0\ttest-merror:0.049505\n",
      "[29]\ttrain-merror:0\ttest-merror:0.049505\n",
      "[30]\ttrain-merror:0\ttest-merror:0.049505\n",
      "[31]\ttrain-merror:0\ttest-merror:0.049505\n",
      "[32]\ttrain-merror:0\ttest-merror:0.049505\n",
      "[33]\ttrain-merror:0\ttest-merror:0.049505\n",
      "[34]\ttrain-merror:0\ttest-merror:0.049505\n",
      "[35]\ttrain-merror:0\ttest-merror:0.049505\n",
      "[36]\ttrain-merror:0\ttest-merror:0.049505\n",
      "[37]\ttrain-merror:0\ttest-merror:0.049505\n",
      "[38]\ttrain-merror:0\ttest-merror:0.049505\n",
      "[39]\ttrain-merror:0\ttest-merror:0.049505\n",
      "[40]\ttrain-merror:0\ttest-merror:0.049505\n",
      "[41]\ttrain-merror:0\ttest-merror:0.049505\n",
      "[42]\ttrain-merror:0\ttest-merror:0.049505\n",
      "[43]\ttrain-merror:0\ttest-merror:0.049505\n",
      "[44]\ttrain-merror:0\ttest-merror:0.049505\n",
      "[45]\ttrain-merror:0\ttest-merror:0.049505\n",
      "[46]\ttrain-merror:0\ttest-merror:0.049505\n",
      "[47]\ttrain-merror:0\ttest-merror:0.049505\n",
      "[48]\ttrain-merror:0\ttest-merror:0.049505\n",
      "[49]\ttrain-merror:0\ttest-merror:0.049505\n",
      "Test error using softmax = 0.00909090909090909\n",
      "[0]\ttrain-merror:0.067347\ttest-merror:0.217822\n",
      "[1]\ttrain-merror:0.026531\ttest-merror:0.19802\n",
      "[2]\ttrain-merror:0.008163\ttest-merror:0.19802\n"
     ]
    },
    {
     "name": "stderr",
     "output_type": "stream",
     "text": [
      "/Users/MichaelK/anaconda/lib/python3.6/site-packages/ipykernel_launcher.py:6: DeprecationWarning: elementwise != comparison failed; this will raise an error in the future.\n",
      "  \n"
     ]
    },
    {
     "name": "stdout",
     "output_type": "stream",
     "text": [
      "[3]\ttrain-merror:0.004082\ttest-merror:0.178218\n",
      "[4]\ttrain-merror:0\ttest-merror:0.138614\n",
      "[5]\ttrain-merror:0\ttest-merror:0.128713\n",
      "[6]\ttrain-merror:0\ttest-merror:0.118812\n",
      "[7]\ttrain-merror:0\ttest-merror:0.079208\n",
      "[8]\ttrain-merror:0\ttest-merror:0.089109\n",
      "[9]\ttrain-merror:0\ttest-merror:0.089109\n",
      "[10]\ttrain-merror:0\ttest-merror:0.089109\n",
      "[11]\ttrain-merror:0\ttest-merror:0.079208\n",
      "[12]\ttrain-merror:0\ttest-merror:0.079208\n",
      "[13]\ttrain-merror:0\ttest-merror:0.079208\n",
      "[14]\ttrain-merror:0\ttest-merror:0.079208\n",
      "[15]\ttrain-merror:0\ttest-merror:0.069307\n",
      "[16]\ttrain-merror:0\ttest-merror:0.069307\n",
      "[17]\ttrain-merror:0\ttest-merror:0.069307\n",
      "[18]\ttrain-merror:0\ttest-merror:0.059406\n",
      "[19]\ttrain-merror:0\ttest-merror:0.049505\n",
      "[20]\ttrain-merror:0\ttest-merror:0.049505\n",
      "[21]\ttrain-merror:0\ttest-merror:0.049505\n",
      "[22]\ttrain-merror:0\ttest-merror:0.049505\n",
      "[23]\ttrain-merror:0\ttest-merror:0.049505\n",
      "[24]\ttrain-merror:0\ttest-merror:0.049505\n",
      "[25]\ttrain-merror:0\ttest-merror:0.049505\n",
      "[26]\ttrain-merror:0\ttest-merror:0.049505\n",
      "[27]\ttrain-merror:0\ttest-merror:0.049505\n",
      "[28]\ttrain-merror:0\ttest-merror:0.049505\n",
      "[29]\ttrain-merror:0\ttest-merror:0.049505\n",
      "[30]\ttrain-merror:0\ttest-merror:0.049505\n",
      "[31]\ttrain-merror:0\ttest-merror:0.049505\n",
      "[32]\ttrain-merror:0\ttest-merror:0.049505\n",
      "[33]\ttrain-merror:0\ttest-merror:0.049505\n",
      "[34]\ttrain-merror:0\ttest-merror:0.049505\n",
      "[35]\ttrain-merror:0\ttest-merror:0.049505\n",
      "[36]\ttrain-merror:0\ttest-merror:0.049505\n",
      "[37]\ttrain-merror:0\ttest-merror:0.049505\n",
      "[38]\ttrain-merror:0\ttest-merror:0.049505\n",
      "[39]\ttrain-merror:0\ttest-merror:0.049505\n",
      "[40]\ttrain-merror:0\ttest-merror:0.049505\n",
      "[41]\ttrain-merror:0\ttest-merror:0.049505\n",
      "[42]\ttrain-merror:0\ttest-merror:0.049505\n",
      "[43]\ttrain-merror:0\ttest-merror:0.049505\n",
      "[44]\ttrain-merror:0\ttest-merror:0.049505\n",
      "[45]\ttrain-merror:0\ttest-merror:0.049505\n",
      "[46]\ttrain-merror:0\ttest-merror:0.049505\n",
      "[47]\ttrain-merror:0\ttest-merror:0.049505\n",
      "[48]\ttrain-merror:0\ttest-merror:0.049505\n",
      "[49]\ttrain-merror:0\ttest-merror:0.049505\n",
      "Test error using softprob = 0.009900990099009901\n",
      "[0 3 3 0 3 3 0 0 0 0 0 2 2 2 2 2 2 2 2 2 2 2 2 2 2 2 2 1 1 1 1 3 1 1 1 1 1\n",
      " 1 3 3 3 3 3 3 3 3 3 3 3 3 3 3 3 3 3 3 3 3 3 3 3 3 3 3 3 3 3 3 3 3 3 3 3 3\n",
      " 3 3 3 3 3 3 3 3 3 3 3 3 3 3 3 3 3 3 3 3 3 3 3 3 3 3 3]\n"
     ]
    },
    {
     "name": "stderr",
     "output_type": "stream",
     "text": [
      "/Users/MichaelK/anaconda/lib/python3.6/site-packages/ipykernel_launcher.py:16: FutureWarning: elementwise comparison failed; returning scalar instead, but in the future will perform elementwise comparison\n",
      "  app.launch_new_instance()\n"
     ]
    },
    {
     "name": "stdout",
     "output_type": "stream",
     "text": [
      "Normalized confusion matrix\n",
      "[[ 0.63636364  0.          0.          0.36363636]\n",
      " [ 0.          0.90909091  0.          0.09090909]\n",
      " [ 0.          0.          1.          0.        ]\n",
      " [ 0.          0.          0.          1.        ]]\n"
     ]
    },
    {
     "data": {
      "image/png": "[encoded data removed]",
      "text/plain": [
       "<matplotlib.figure.Figure at 0x114d78630>"
      ]
     },
     "metadata": {},
     "output_type": "display_data"
    }
   ],
   "source": [
    "watchlist = [(xg_train, 'train'), (xg_test, 'test')]\n",
    "num_round = 50\n",
    "bst = xgb.train(param, xg_train, num_round, watchlist)\n",
    "# get prediction\n",
    "pred = bst.predict(xg_test)\n",
    "error_rate = np.sum(pred != test_Y) / test_Y.shape[0]\n",
    "print('Test error using softmax = {}'.format(error_rate))\n",
    "\n",
    "# do the same thing again, but output probabilities\n",
    "param['objective'] = 'multi:softprob'\n",
    "bst = xgb.train(param, xg_train, num_round, watchlist)\n",
    "# Note: this convention has been changed since xgboost-unity\n",
    "# get prediction, this is in 1D array, need reshape to (ndata, nclass)\n",
    "pred_prob = bst.predict(xg_test)#.reshape(np.array(test_labels).shape[0], 6)\n",
    "pred_label = np.argmax(pred_prob, axis=1)\n",
    "error_rate = np.sum(pred != test_labels) / np.array(test_labels).shape[0]\n",
    "print('Test error using softprob = {}'.format(error_rate))\n",
    "print(pred_label)\n",
    "plot_confusion_matrix(confusion_matrix(test_nums,pred_label),classes=[1,2,3,4],normalize=True)"
   ]
  },
  {
   "cell_type": "code",
   "execution_count": 350,
   "metadata": {},
   "outputs": [],
   "source": [
    "from sklearn.ensemble import RandomForestClassifier\n",
    "from sklearn.ensemble import GradientBoostingClassifier\n",
    "from sklearn.naive_bayes import MultinomialNB\n",
    "from sklearn.naive_bayes import BernoulliNB\n",
    "from sklearn.linear_model import SGDClassifier, LogisticRegression\n",
    "from sklearn.tree import DecisionTreeClassifier\n",
    "from sklearn.model_selection import GridSearchCV\n",
    "from sklearn.metrics import f1_score"
   ]
  },
  {
   "cell_type": "code",
   "execution_count": 351,
   "metadata": {},
   "outputs": [
    {
     "data": {
      "text/plain": [
       "0.8910891089108911"
      ]
     },
     "execution_count": 351,
     "metadata": {},
     "output_type": "execute_result"
    }
   ],
   "source": [
    "rdf = RandomForestClassifier(n_estimators=100, class_weight=\"balanced\", random_state = 12)\n",
    "_ = rdf.fit(train_vecs, train_nums)\n",
    "np.mean(rdf.predict(test_vecs) == test_nums)"
   ]
  },
  {
   "cell_type": "code",
   "execution_count": 352,
   "metadata": {},
   "outputs": [
    {
     "data": {
      "text/plain": [
       "0.72277227722772275"
      ]
     },
     "execution_count": 352,
     "metadata": {},
     "output_type": "execute_result"
    }
   ],
   "source": [
    "param_grid = {'max_depth': np.arange(3, 10)}\n",
    "\n",
    "tree = GridSearchCV(DecisionTreeClassifier(random_state = 42, class_weight = 'balanced'), param_grid)\n",
    "\n",
    "tree.fit(train_vecs, train_nums)\n",
    "tree_preds = (tree.predict(test_vecs))\n",
    "np.mean(tree_preds == test_nums)"
   ]
  },
  {
   "cell_type": "code",
   "execution_count": 397,
   "metadata": {},
   "outputs": [
    {
     "data": {
      "text/plain": [
       "[('pcaer', 0.3627100884914398),\n",
       " ('desaturation', 0.3546023368835449),\n",
       " ('pool', 0.3419247269630432),\n",
       " ('girth', 0.3371128439903259),\n",
       " ('divere', 0.3255652189254761),\n",
       " ('locally', 0.32143813371658325),\n",
       " ('pop', 0.320972740650177),\n",
       " ('echo', 0.31969547271728516),\n",
       " ('ob', 0.31894415616989136),\n",
       " ('lishe', 0.3113552927970886)]"
      ]
     },
     "execution_count": 397,
     "metadata": {},
     "output_type": "execute_result"
    }
   ],
   "source": [
    "model.most_similar('smoking') "
   ]
  },
  {
   "cell_type": "code",
   "execution_count": null,
   "metadata": {
    "collapsed": true
   },
   "outputs": [],
   "source": []
  }
 ],
 "metadata": {
  "kernelspec": {
   "display_name": "Python 3",
   "language": "python",
   "name": "python3"
  },
  "language_info": {
   "codemirror_mode": {
    "name": "ipython",
    "version": 3
   },
   "file_extension": ".py",
   "mimetype": "text/x-python",
   "name": "python",
   "nbconvert_exporter": "python",
   "pygments_lexer": "ipython3",
   "version": "3.6.0"
  }
 },
 "nbformat": 4,
 "nbformat_minor": 2
}

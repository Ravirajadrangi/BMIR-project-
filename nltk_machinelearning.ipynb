{
 "cells": [
  {
   "cell_type": "code",
   "execution_count": 1,
   "metadata": {
    "collapsed": true
   },
   "outputs": [],
   "source": [
    "import nltk\n",
    "from nltk.util import ngrams\n",
    "import numpy as np\n",
    "import xml.etree.ElementTree as ET\n",
    "import re"
   ]
  },
  {
   "cell_type": "code",
   "execution_count": 2,
   "metadata": {
    "collapsed": true
   },
   "outputs": [],
   "source": [
    "data = []\n",
    "target = []\n",
    "test_data = []\n",
    "test_target = []\n",
    "\n",
    "\n",
    "def parsetrain(filename):\n",
    "    tree = ET.parse(filename)\n",
    "    #this filename can be changed to accommodate different smoker files\n",
    "    root = tree.getroot()\n",
    "\n",
    "    for element in root.findall('RECORD'):\n",
    "        text = str(element.find('TEXT').text)[50:]\n",
    "        data.append(text)\n",
    "        s= str(element.find(\"SMOKING\").attrib['STATUS'])\n",
    "        if \"UNK\" in s:\n",
    "            target.append(4)\n",
    "        elif \"NON\" in s:\n",
    "            target.append(3)\n",
    "        elif \"PAST\" in s:\n",
    "            target.append(2)\n",
    "        else:\n",
    "            target.append(1)\n",
    "            \n",
    "def parsetest(filename):\n",
    "    tree = ET.parse(filename)\n",
    "    #this filename can be changed to accommodate different smoker files\n",
    "    root = tree.getroot()\n",
    "\n",
    "    for element in root.findall('RECORD'):\n",
    "        text = str(element.find('TEXT').text)[50:]\n",
    "        test_data.append(text)\n",
    "        s= str(element.find(\"SMOKING\").attrib['STATUS'])\n",
    "        if \"UNK\" in s:\n",
    "            test_target.append(4)\n",
    "        elif \"NON\" in s:\n",
    "            test_target.append(3)\n",
    "        elif \"PAST\" in s:\n",
    "            test_target.append(2)\n",
    "        else:\n",
    "            test_target.append(1)"
   ]
  },
  {
   "cell_type": "code",
   "execution_count": null,
   "metadata": {
    "collapsed": true
   },
   "outputs": [],
   "source": []
  }
 ],
 "metadata": {
  "kernelspec": {
   "display_name": "Python 3",
   "language": "python",
   "name": "python3"
  },
  "language_info": {
   "codemirror_mode": {
    "name": "ipython",
    "version": 3
   },
   "file_extension": ".py",
   "mimetype": "text/x-python",
   "name": "python",
   "nbconvert_exporter": "python",
   "pygments_lexer": "ipython3",
   "version": "3.6.0"
  }
 },
 "nbformat": 4,
 "nbformat_minor": 2
}

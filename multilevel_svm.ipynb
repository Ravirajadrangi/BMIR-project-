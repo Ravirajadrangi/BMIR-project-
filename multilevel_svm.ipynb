{
 "cells": [
  {
   "cell_type": "code",
   "execution_count": 34,
   "metadata": {
    "collapsed": true
   },
   "outputs": [],
   "source": [
    "import xml.etree.ElementTree as ET\n",
    "import itertools\n",
    "import re\n",
    "import nltk.data\n",
    "from sklearn.feature_extraction.text import CountVectorizer\n",
    "from sklearn.feature_extraction.text import TfidfTransformer\n",
    "from sklearn.pipeline import Pipeline\n",
    "from sklearn.metrics import confusion_matrix\n",
    "from sklearn.linear_model import SGDClassifier\n",
    "import seaborn as sns\n",
    "import numpy as np\n",
    "from matplotlib import pyplot as plt\n",
    "tokenizer = nltk.data.load('tokenizers/punkt/english.pickle')"
   ]
  },
  {
   "cell_type": "code",
   "execution_count": 30,
   "metadata": {
    "collapsed": true
   },
   "outputs": [],
   "source": [
    "#get all data loaded and sorted\n",
    "\n",
    "data = []\n",
    "target = []\n",
    "test_data = []\n",
    "test_target = []\n",
    "categories = [\"current\", \"past\", \"non\", \"unknown\"]\n",
    "def parsetrain(filename):\n",
    "    tree = ET.parse(filename)\n",
    "    #this filename can be changed to accommodate different smoker files\n",
    "    root = tree.getroot()\n",
    "\n",
    "    for element in root.findall('RECORD'):\n",
    "        text = str(element.find('TEXT').text)[50:]\n",
    "        data.append(text)\n",
    "        s= str(element.find(\"SMOKING\").attrib['STATUS'])\n",
    "        if \"UNK\" in s:\n",
    "            target.append(4)\n",
    "        elif \"NON\" in s:\n",
    "            target.append(3)\n",
    "        elif \"PAST\" in s:\n",
    "            target.append(2)\n",
    "        else:\n",
    "            target.append(1)\n",
    "            \n",
    "def parsetest(filename):\n",
    "    tree = ET.parse(filename)\n",
    "    #this filename can be changed to accommodate different smoker files\n",
    "    root = tree.getroot()\n",
    "\n",
    "    for element in root.findall('RECORD'):\n",
    "        text = str(element.find('TEXT').text)[50:]\n",
    "        test_data.append(text)\n",
    "        s= str(element.find(\"SMOKING\").attrib['STATUS'])\n",
    "        if \"UNK\" in s:\n",
    "            test_target.append(4)\n",
    "        elif \"NON\" in s:\n",
    "            test_target.append(3)\n",
    "        elif \"PAST\" in s:\n",
    "            test_target.append(2)\n",
    "        else:\n",
    "            test_target.append(1)\n",
    "parsetrain('smokers_surrogate_train_all_version2.xml')\n",
    "parsetest('smokers_surrogate_test_all_groundtruth_version2.xml')\n",
    "def plot_confusion_matrix(cm, classes,\n",
    "                          normalize=False,\n",
    "                          title='Confusion matrix',\n",
    "                          cmap=plt.cm.Blues):\n",
    "    \"\"\"\n",
    "    This function prints and plots the confusion matrix.\n",
    "    Normalization can be applied by setting `normalize=True`.\n",
    "    \"\"\"\n",
    "    plt.imshow(cm, interpolation='nearest', cmap=cmap)\n",
    "    plt.title(title)\n",
    "    plt.colorbar()\n",
    "    tick_marks = np.arange(len(classes))\n",
    "    plt.xticks(tick_marks, classes, rotation=45)\n",
    "    plt.yticks(tick_marks, classes)\n",
    "\n",
    "    if normalize:\n",
    "        cm = cm.astype('float') / cm.sum(axis=1)[:, np.newaxis]\n",
    "        print(\"Normalized confusion matrix\")\n",
    "    else:\n",
    "        print('Confusion matrix, without normalization')\n",
    "\n",
    "    print(cm)\n",
    "    sns.heatmap(cm)\n",
    "\n",
    "    plt.ylabel('True label')\n",
    "    plt.xlabel('Predicted label')\n",
    "    plt.show()"
   ]
  },
  {
   "cell_type": "code",
   "execution_count": 31,
   "metadata": {
    "collapsed": true
   },
   "outputs": [],
   "source": [
    "train_data = []\n",
    "train_target = []\n",
    "for i in range(0,len(data)):\n",
    "    tar = target[i]\n",
    "    sents = tokenizer.tokenize(data[i])\n",
    "    train_target.extend([tar]*len(sents))\n",
    "    train_data.extend(sents)\n",
    "    \n",
    "tst_data = []\n",
    "tst_target = []\n",
    "for i in range(0,len(test_data)):\n",
    "    ttar = test_target[i]\n",
    "    sents = tokenizer.tokenize(test_data[i])\n",
    "    tst_target.extend([ttar]*len(sents))\n",
    "    tst_data.extend(sents)"
   ]
  },
  {
   "cell_type": "code",
   "execution_count": 38,
   "metadata": {},
   "outputs": [
    {
     "name": "stdout",
     "output_type": "stream",
     "text": [
      "0.38990990991\n",
      "Normalized confusion matrix\n",
      "[[ 0.03222342  0.03329753  0.08163265  0.8528464 ]\n",
      " [ 0.03202479  0.0268595   0.11260331  0.8285124 ]\n",
      " [ 0.02594514  0.0289103   0.11119348  0.83395107]\n",
      " [ 0.02215465  0.0269331   0.10034752  0.85056473]]\n"
     ]
    },
    {
     "data": {
      "image/png": "[encoded data removed]",
      "text/plain": [
       "<matplotlib.figure.Figure at 0x11d769ac8>"
      ]
     },
     "metadata": {},
     "output_type": "display_data"
    }
   ],
   "source": [
    "text_clf = Pipeline([('vect', CountVectorizer(max_df=0.95, min_df=2, stop_words='english', ngram_range=(2,4))),\n",
    "                     ('tfidf', TfidfTransformer()),\n",
    "                     ('clf', SGDClassifier(n_iter=100)),\n",
    "])\n",
    "_ = text_clf.fit(train_data, train_target)\n",
    "predicted = text_clf.predict(tst_data)\n",
    "print(np.mean(predicted == tst_target))\n",
    "plot_confusion_matrix(confusion_matrix(tst_target,predicted),classes=[1,2,3,4],normalize=True)"
   ]
  },
  {
   "cell_type": "code",
   "execution_count": null,
   "metadata": {
    "collapsed": true
   },
   "outputs": [],
   "source": []
  }
 ],
 "metadata": {
  "kernelspec": {
   "display_name": "Python 3",
   "language": "python",
   "name": "python3"
  },
  "language_info": {
   "codemirror_mode": {
    "name": "ipython",
    "version": 3
   },
   "file_extension": ".py",
   "mimetype": "text/x-python",
   "name": "python",
   "nbconvert_exporter": "python",
   "pygments_lexer": "ipython3",
   "version": "3.6.1"
  }
 },
 "nbformat": 4,
 "nbformat_minor": 2
}

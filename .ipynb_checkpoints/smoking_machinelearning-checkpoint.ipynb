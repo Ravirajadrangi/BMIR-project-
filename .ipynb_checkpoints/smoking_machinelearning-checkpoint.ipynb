{
 "cells": [
  {
   "cell_type": "code",
   "execution_count": 81,
   "metadata": {
    "collapsed": true
   },
   "outputs": [],
   "source": [
    "import xml.etree.ElementTree as ET\n",
    "import re\n",
    "from sklearn.feature_extraction.text import CountVectorizer\n",
    "from sklearn.feature_extraction.text import TfidfTransformer\n",
    "from sklearn.naive_bayes import MultinomialNB\n",
    "from sklearn.naive_bayes import BernoulliNB\n",
    "from sklearn.pipeline import Pipeline\n",
    "from sklearn.linear_model import SGDClassifier\n",
    "from sklearn import metrics\n",
    "from sklearn import tree\n",
    "from sklearn.ensemble import RandomForestClassifier\n",
    "import numpy as np\n",
    "from matplotlib import pyplot as plt\n",
    "\n",
    "data = []\n",
    "target = []\n",
    "test_data = []\n",
    "test_target = []\n",
    "categories = [\"current\", \"past\", \"non\", \"unknown\"]"
   ]
  },
  {
   "cell_type": "code",
   "execution_count": 82,
   "metadata": {
    "collapsed": true
   },
   "outputs": [],
   "source": [
    "def parsetrain(filename):\n",
    "    tree = ET.parse(filename)\n",
    "    #this filename can be changed to accommodate different smoker files\n",
    "    root = tree.getroot()\n",
    "\n",
    "    for element in root.findall('RECORD'):\n",
    "        text = str(element.find('TEXT').text)[50:]\n",
    "        data.append(text)\n",
    "        s= str(element.find(\"SMOKING\").attrib['STATUS'])\n",
    "        if \"UNK\" in s:\n",
    "            target.append(4)\n",
    "        elif \"NON\" in s:\n",
    "            target.append(3)\n",
    "        elif \"PAST\" in s:\n",
    "            target.append(2)\n",
    "        else:\n",
    "            target.append(1)\n",
    "            \n",
    "def parsetest(filename):\n",
    "    tree = ET.parse(filename)\n",
    "    #this filename can be changed to accommodate different smoker files\n",
    "    root = tree.getroot()\n",
    "\n",
    "    for element in root.findall('RECORD'):\n",
    "        text = str(element.find('TEXT').text)[50:]\n",
    "        test_data.append(text)\n",
    "        s= str(element.find(\"SMOKING\").attrib['STATUS'])\n",
    "        if \"UNK\" in s:\n",
    "            test_target.append(4)\n",
    "        elif \"NON\" in s:\n",
    "            test_target.append(3)\n",
    "        elif \"PAST\" in s:\n",
    "            test_target.append(2)\n",
    "        else:\n",
    "            test_target.append(1)"
   ]
  },
  {
   "cell_type": "code",
   "execution_count": 83,
   "metadata": {},
   "outputs": [],
   "source": [
    "parsetrain('smokers_surrogate_train_all_version2.xml')\n",
    "parsetest('smokers_surrogate_test_all_groundtruth_version2.xml')"
   ]
  },
  {
   "cell_type": "code",
   "execution_count": 91,
   "metadata": {},
   "outputs": [],
   "source": [
    "#TFIDF feature extraction - will be used for the rest of the tests\n",
    "count_vect = CountVectorizer()\n",
    "X_train_counts = count_vect.fit_transform(data)\n",
    "tf_transformer = TfidfTransformer(use_idf=False).fit(X_train_counts)\n",
    "X_train_tf = tf_transformer.transform(X_train_counts)\n",
    "tfidf_transformer = TfidfTransformer()\n",
    "X_train_tfidf = tfidf_transformer.fit_transform(X_train_counts)\n",
    "clf = MultinomialNB().fit(X_train_tfidf, target)"
   ]
  },
  {
   "cell_type": "code",
   "execution_count": 85,
   "metadata": {},
   "outputs": [
    {
     "name": "stdout",
     "output_type": "stream",
     "text": [
      "0.605769230769\n"
     ]
    }
   ],
   "source": [
    "X_new_counts = count_vect.transform(test_data)\n",
    "X_new_tfidf = tfidf_transformer.transform(X_new_counts)\n",
    "predicted = clf.predict(X_new_tfidf)\n",
    "print(np.mean(predicted == test_target))"
   ]
  },
  {
   "cell_type": "code",
   "execution_count": 86,
   "metadata": {
    "scrolled": true
   },
   "outputs": [
    {
     "name": "stdout",
     "output_type": "stream",
     "text": [
      "0.605769230769\n"
     ]
    }
   ],
   "source": [
    "text_clf = Pipeline([('vect', CountVectorizer()),\n",
    "                     ('tfidf', TfidfTransformer()),\n",
    "                     ('clf', MultinomialNB()),\n",
    "])\n",
    "_ = text_clf.fit(data, target)\n",
    "predicted = text_clf.predict(test_data)\n",
    "print(np.mean(predicted == test_target))\n",
    "#print(predicted)"
   ]
  },
  {
   "cell_type": "code",
   "execution_count": 87,
   "metadata": {},
   "outputs": [
    {
     "name": "stdout",
     "output_type": "stream",
     "text": [
      "0.625\n"
     ]
    }
   ],
   "source": [
    "text_clf_svm = Pipeline([('vect', CountVectorizer()),\n",
    "                     ('tfidf', TfidfTransformer()), \n",
    "                     ('clf', SGDClassifier(loss='log', penalty='elasticnet', alpha=1e-3, n_iter=5, random_state=42)),\n",
    "])\n",
    "_ = text_clf_svm.fit(data, target)\n",
    "predicted = text_clf_svm.predict(test_data)\n",
    "print(np.mean(predicted == test_target))\n",
    "#print(predicted)"
   ]
  },
  {
   "cell_type": "code",
   "execution_count": 88,
   "metadata": {},
   "outputs": [
    {
     "name": "stdout",
     "output_type": "stream",
     "text": [
      "0.634615384615\n"
     ]
    }
   ],
   "source": [
    "text_clf_rdf = Pipeline([('vect', CountVectorizer()),\n",
    "                         ('tfidf', TfidfTransformer()), \n",
    "                         ('clf', RandomForestClassifier(n_estimators=10, \n",
    "                                                        criterion = \"entropy\")),\n",
    "])\n",
    "_ = text_clf_rdf.fit(data, target)\n",
    "predicted = text_clf_rdf.predict(test_data)\n",
    "print(np.mean(predicted == test_target))\n",
    "#print(predicted)"
   ]
  },
  {
   "cell_type": "code",
   "execution_count": 89,
   "metadata": {},
   "outputs": [
    {
     "name": "stdout",
     "output_type": "stream",
     "text": [
      "0.740384615385\n"
     ]
    }
   ],
   "source": [
    "text_clf_dct = Pipeline([('vect', CountVectorizer()),\n",
    "                         ('tfidf', TfidfTransformer()), \n",
    "                         ('clf', tree.DecisionTreeClassifier()),\n",
    "])\n",
    "_ = text_clf_dct.fit(data, target)\n",
    "predicted = text_clf_dct.predict(test_data)\n",
    "print(np.mean(predicted == test_target))\n",
    "#print(predicted)"
   ]
  },
  {
   "cell_type": "code",
   "execution_count": null,
   "metadata": {
    "collapsed": true
   },
   "outputs": [],
   "source": [
    "#conclusion - tf-idf feature extraction doesn't really work - move back to n-gram"
   ]
  }
 ],
 "metadata": {
  "kernelspec": {
   "display_name": "Python 3",
   "language": "python",
   "name": "python3"
  },
  "language_info": {
   "codemirror_mode": {
    "name": "ipython",
    "version": 3
   },
   "file_extension": ".py",
   "mimetype": "text/x-python",
   "name": "python",
   "nbconvert_exporter": "python",
   "pygments_lexer": "ipython3",
   "version": "3.6.0"
  }
 },
 "nbformat": 4,
 "nbformat_minor": 2
}

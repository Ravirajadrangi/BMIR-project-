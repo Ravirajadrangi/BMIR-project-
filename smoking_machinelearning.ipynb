{
 "cells": [
  {
   "cell_type": "code",
   "execution_count": 139,
   "metadata": {
    "collapsed": true
   },
   "outputs": [],
   "source": [
    "import xml.etree.ElementTree as ET\n",
    "import itertools\n",
    "import re\n",
    "from sklearn.feature_extraction.text import CountVectorizer\n",
    "from sklearn.feature_extraction.text import TfidfTransformer\n",
    "from sklearn.naive_bayes import MultinomialNB\n",
    "from sklearn.naive_bayes import BernoulliNB\n",
    "from sklearn.pipeline import Pipeline\n",
    "from sklearn.linear_model import SGDClassifier\n",
    "from sklearn.metrics import confusion_matrix\n",
    "from sklearn import tree\n",
    "from sklearn.ensemble import RandomForestClassifier\n",
    "import numpy as np\n",
    "from matplotlib import pyplot as plt\n",
    "import seaborn as sns\n",
    "\n",
    "data = []\n",
    "target = []\n",
    "test_data = []\n",
    "test_target = []\n",
    "categories = [\"current\", \"past\", \"non\", \"unknown\"]"
   ]
  },
  {
   "cell_type": "code",
   "execution_count": 140,
   "metadata": {
    "collapsed": true
   },
   "outputs": [],
   "source": [
    "def plot_confusion_matrix(cm, classes,\n",
    "                          normalize=False,\n",
    "                          title='Confusion matrix',\n",
    "                          cmap=plt.cm.Blues):\n",
    "    \"\"\"\n",
    "    This function prints and plots the confusion matrix.\n",
    "    Normalization can be applied by setting `normalize=True`.\n",
    "    \"\"\"\n",
    "    plt.imshow(cm, interpolation='nearest', cmap=cmap)\n",
    "    plt.title(title)\n",
    "    plt.colorbar()\n",
    "    tick_marks = np.arange(len(classes))\n",
    "    plt.xticks(tick_marks, classes, rotation=45)\n",
    "    plt.yticks(tick_marks, classes)\n",
    "\n",
    "    if normalize:\n",
    "        cm = cm.astype('float') / cm.sum(axis=1)[:, np.newaxis]\n",
    "        print(\"Normalized confusion matrix\")\n",
    "    else:\n",
    "        print('Confusion matrix, without normalization')\n",
    "\n",
    "    print(cm)\n",
    "\n",
    "    thresh = cm.max() / 2.\n",
    "    for i, j in itertools.product(range(cm.shape[0]), range(cm.shape[1])):\n",
    "        plt.text(j, i, cm[i, j],\n",
    "                 horizontalalignment=\"center\",\n",
    "                 color=\"white\" if cm[i, j] > thresh else \"black\")\n",
    "\n",
    "    plt.tight_layout()\n",
    "    plt.ylabel('True label')\n",
    "    plt.xlabel('Predicted label')"
   ]
  },
  {
   "cell_type": "code",
   "execution_count": 141,
   "metadata": {
    "collapsed": true
   },
   "outputs": [],
   "source": [
    "def parsetrain(filename):\n",
    "    tree = ET.parse(filename)\n",
    "    #this filename can be changed to accommodate different smoker files\n",
    "    root = tree.getroot()\n",
    "\n",
    "    for element in root.findall('RECORD'):\n",
    "        text = str(element.find('TEXT').text)[50:]\n",
    "        data.append(text)\n",
    "        s= str(element.find(\"SMOKING\").attrib['STATUS'])\n",
    "        if \"UNK\" in s:\n",
    "            target.append(4)\n",
    "        elif \"NON\" in s:\n",
    "            target.append(3)\n",
    "        elif \"PAST\" in s:\n",
    "            target.append(2)\n",
    "        else:\n",
    "            target.append(1)\n",
    "            \n",
    "def parsetest(filename):\n",
    "    tree = ET.parse(filename)\n",
    "    #this filename can be changed to accommodate different smoker files\n",
    "    root = tree.getroot()\n",
    "\n",
    "    for element in root.findall('RECORD'):\n",
    "        text = str(element.find('TEXT').text)[50:]\n",
    "        test_data.append(text)\n",
    "        s= str(element.find(\"SMOKING\").attrib['STATUS'])\n",
    "        if \"UNK\" in s:\n",
    "            test_target.append(4)\n",
    "        elif \"NON\" in s:\n",
    "            test_target.append(3)\n",
    "        elif \"PAST\" in s:\n",
    "            test_target.append(2)\n",
    "        else:\n",
    "            test_target.append(1)"
   ]
  },
  {
   "cell_type": "code",
   "execution_count": 142,
   "metadata": {},
   "outputs": [],
   "source": [
    "parsetrain('smokers_surrogate_train_all_version2.xml')\n",
    "parsetest('smokers_surrogate_test_all_groundtruth_version2.xml')"
   ]
  },
  {
   "cell_type": "code",
   "execution_count": 143,
   "metadata": {},
   "outputs": [],
   "source": [
    "#TFIDF feature extraction - will be used for the rest of the tests\n",
    "count_vect = CountVectorizer()\n",
    "X_train_counts = count_vect.fit_transform(data)\n",
    "tf_transformer = TfidfTransformer(use_idf=False).fit(X_train_counts)\n",
    "X_train_tf = tf_transformer.transform(X_train_counts)\n",
    "tfidf_transformer = TfidfTransformer()\n",
    "X_train_tfidf = tfidf_transformer.fit_transform(X_train_counts)\n",
    "clf = MultinomialNB().fit(X_train_tfidf, target)"
   ]
  },
  {
   "cell_type": "code",
   "execution_count": 144,
   "metadata": {},
   "outputs": [
    {
     "name": "stdout",
     "output_type": "stream",
     "text": [
      "0.605769230769\n"
     ]
    }
   ],
   "source": [
    "X_new_counts = count_vect.transform(test_data)\n",
    "X_new_tfidf = tfidf_transformer.transform(X_new_counts)\n",
    "predicted = clf.predict(X_new_tfidf)\n",
    "print(np.mean(predicted == test_target))"
   ]
  },
  {
   "cell_type": "code",
   "execution_count": 145,
   "metadata": {
    "scrolled": true
   },
   "outputs": [
    {
     "name": "stdout",
     "output_type": "stream",
     "text": [
      "0.605769230769\n",
      "[[ 0  0  0 14]\n",
      " [ 0  0  0 11]\n",
      " [ 0  0  0 16]\n",
      " [ 0  0  0 63]]\n"
     ]
    }
   ],
   "source": [
    "text_clf = Pipeline([('vect', CountVectorizer()),\n",
    "                     ('tfidf', TfidfTransformer()),\n",
    "                     ('clf', MultinomialNB()),\n",
    "])\n",
    "_ = text_clf.fit(data, target)\n",
    "predicted = text_clf.predict(test_data)\n",
    "print(np.mean(predicted == test_target))\n",
    "print(confusion_matrix(test_target,predicted))\n",
    "#print(predicted)"
   ]
  },
  {
   "cell_type": "code",
   "execution_count": 146,
   "metadata": {},
   "outputs": [
    {
     "name": "stdout",
     "output_type": "stream",
     "text": [
      "0.625\n",
      "[[ 0  0  1 13]\n",
      " [ 0  0  2  9]\n",
      " [ 0  0  3 13]\n",
      " [ 0  0  1 62]]\n"
     ]
    }
   ],
   "source": [
    "text_clf_svm = Pipeline([('vect', CountVectorizer()),\n",
    "                     ('tfidf', TfidfTransformer()), \n",
    "                     ('clf', SGDClassifier(loss='log', penalty='elasticnet', alpha=1e-3, n_iter=5, random_state=42)),\n",
    "])\n",
    "_ = text_clf_svm.fit(data, target)\n",
    "predicted = text_clf_svm.predict(test_data)\n",
    "print(np.mean(predicted == test_target))\n",
    "print(confusion_matrix(test_target,predicted))\n",
    "#print(predicted)"
   ]
  },
  {
   "cell_type": "code",
   "execution_count": 147,
   "metadata": {},
   "outputs": [
    {
     "name": "stdout",
     "output_type": "stream",
     "text": [
      "0.634615384615\n",
      "[[ 1  0  3 10]\n",
      " [ 0  2  4  5]\n",
      " [ 0  1  5 10]\n",
      " [ 1  1  3 58]]\n"
     ]
    }
   ],
   "source": [
    "text_clf_rdf = Pipeline([('vect', CountVectorizer()),\n",
    "                         ('tfidf', TfidfTransformer()), \n",
    "                         ('clf', RandomForestClassifier(n_estimators=10, \n",
    "                                                        criterion = \"entropy\")),\n",
    "])\n",
    "_ = text_clf_rdf.fit(data, target)\n",
    "predicted = text_clf_rdf.predict(test_data)\n",
    "print(np.mean(predicted == test_target))\n",
    "print(confusion_matrix(test_target,predicted))\n",
    "#print(predicted)"
   ]
  },
  {
   "cell_type": "code",
   "execution_count": 148,
   "metadata": {},
   "outputs": [
    {
     "name": "stdout",
     "output_type": "stream",
     "text": [
      "0.75\n",
      "[[ 6  5  1  2]\n",
      " [ 3  3  3  2]\n",
      " [ 1  3 10  2]\n",
      " [ 2  2  0 59]]\n",
      "Normalized confusion matrix\n",
      "[[ 0.42857143  0.35714286  0.07142857  0.14285714]\n",
      " [ 0.27272727  0.27272727  0.27272727  0.18181818]\n",
      " [ 0.0625      0.1875      0.625       0.125     ]\n",
      " [ 0.03174603  0.03174603  0.          0.93650794]]\n"
     ]
    },
    {
     "data": {
      "image/png": "[encoded data removed]",
      "text/plain": [
       "<matplotlib.figure.Figure at 0x114c99780>"
      ]
     },
     "metadata": {},
     "output_type": "display_data"
    }
   ],
   "source": [
    "text_clf_dct = Pipeline([('vect', CountVectorizer()),\n",
    "                         ('tfidf', TfidfTransformer()), \n",
    "                         ('clf', tree.DecisionTreeClassifier()),\n",
    "])\n",
    "_ = text_clf_dct.fit(data, target)\n",
    "predicted = text_clf_dct.predict(test_data)\n",
    "print(np.mean(predicted == test_target))\n",
    "print(confusion_matrix(test_target,predicted))\n",
    "sns.heatmap(confusion_matrix(test_target,predicted))\n",
    "plot_confusion_matrix(confusion_matrix(test_target,predicted),classes=[1,2,3,4],normalize=True)\n",
    "plt.show()\n",
    "#print(predicted)"
   ]
  },
  {
   "cell_type": "code",
   "execution_count": null,
   "metadata": {
    "collapsed": true
   },
   "outputs": [],
   "source": []
  },
  {
   "cell_type": "code",
   "execution_count": 149,
   "metadata": {
    "collapsed": true
   },
   "outputs": [],
   "source": [
    "#conclusion - tf-idf feature extraction doesn't really work - move back to n-gram"
   ]
  }
 ],
 "metadata": {
  "kernelspec": {
   "display_name": "Python 3",
   "language": "python",
   "name": "python3"
  },
  "language_info": {
   "codemirror_mode": {
    "name": "ipython",
    "version": 3
   },
   "file_extension": ".py",
   "mimetype": "text/x-python",
   "name": "python",
   "nbconvert_exporter": "python",
   "pygments_lexer": "ipython3",
   "version": "3.6.0"
  }
 },
 "nbformat": 4,
 "nbformat_minor": 2
}
